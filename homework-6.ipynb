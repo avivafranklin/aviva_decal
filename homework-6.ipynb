{
 "cells": [
  {
   "cell_type": "code",
   "execution_count": 3,
   "metadata": {},
   "outputs": [],
   "source": [
    "import numpy as np"
   ]
  },
  {
   "cell_type": "markdown",
   "metadata": {},
   "source": [
    "## 1"
   ]
  },
  {
   "cell_type": "code",
   "execution_count": 4,
   "metadata": {},
   "outputs": [
    {
     "name": "stdout",
     "output_type": "stream",
     "text": [
      "[[ 2  3  5]\n",
      " [11 13 17]\n",
      " [ 7 10 13]]\n"
     ]
    }
   ],
   "source": [
    "arr = np.array([[2, 3, 5], [4, 6, 8], [11, 13, 17], [7, 10, 13]])\n",
    "\n",
    "def prime(n):\n",
    "    if n < 2:\n",
    "        return False\n",
    "    for i in range(2, int(np.sqrt(n)) + 1): \n",
    "        if n % i == 0:\n",
    "            return False\n",
    "    return True\n",
    "\n",
    "def containsPrimes(array):\n",
    "    mask = np.apply_along_axis(lambda row: np.any(np.vectorize(prime)(row)), axis=1, arr=array)\n",
    "    return array[mask] \n",
    "\n",
    "print(containsPrimes(arr))"
   ]
  },
  {
   "cell_type": "markdown",
   "metadata": {},
   "source": [
    "## 2"
   ]
  },
  {
   "cell_type": "markdown",
   "metadata": {},
   "source": [
    "2.1"
   ]
  },
  {
   "cell_type": "code",
   "execution_count": 6,
   "metadata": {},
   "outputs": [
    {
     "name": "stdout",
     "output_type": "stream",
     "text": [
      "[[0 0 0 0 0 0 0 0]\n",
      " [0 0 0 0 0 0 0 0]\n",
      " [0 0 0 0 0 0 0 0]\n",
      " [0 0 0 0 0 0 0 0]\n",
      " [0 0 0 0 0 0 0 0]\n",
      " [0 0 0 0 0 0 0 0]\n",
      " [0 0 0 0 0 0 0 0]\n",
      " [0 0 0 0 0 0 0 0]]\n"
     ]
    }
   ],
   "source": [
    "def checkerboard():\n",
    "    return np.zeros((8, 8), dtype=int)\n",
    "\n",
    "print(checkerboard())\n"
   ]
  },
  {
   "cell_type": "markdown",
   "metadata": {},
   "source": [
    "2.2"
   ]
  },
  {
   "cell_type": "code",
   "execution_count": 9,
   "metadata": {},
   "outputs": [
    {
     "name": "stdout",
     "output_type": "stream",
     "text": [
      "[[1 0 1 0 1 0 1 0]\n",
      " [0 0 0 0 0 0 0 0]\n",
      " [1 0 1 0 1 0 1 0]\n",
      " [0 0 0 0 0 0 0 0]\n",
      " [1 0 1 0 1 0 1 0]\n",
      " [0 0 0 0 0 0 0 0]\n",
      " [1 0 1 0 1 0 1 0]\n",
      " [0 0 0 0 0 0 0 0]]\n"
     ]
    }
   ],
   "source": [
    "def checkerboard():\n",
    "    matrix= np.zeros((8, 8), dtype=int)\n",
    "    matrix[0::2, 0::2] = 1\n",
    "    return matrix\n",
    "\n",
    "print(checkerboard())"
   ]
  },
  {
   "cell_type": "markdown",
   "metadata": {},
   "source": [
    "2.3"
   ]
  },
  {
   "cell_type": "code",
   "execution_count": 11,
   "metadata": {},
   "outputs": [
    {
     "name": "stdout",
     "output_type": "stream",
     "text": [
      "[[1 0 1 0 1 0 1 0]\n",
      " [0 1 0 1 0 1 0 1]\n",
      " [1 0 1 0 1 0 1 0]\n",
      " [0 1 0 1 0 1 0 1]\n",
      " [1 0 1 0 1 0 1 0]\n",
      " [0 1 0 1 0 1 0 1]\n",
      " [1 0 1 0 1 0 1 0]\n",
      " [0 1 0 1 0 1 0 1]]\n"
     ]
    }
   ],
   "source": [
    "def checkerboard():\n",
    "    matrix= np.zeros((8, 8), dtype=int)\n",
    "    matrix[0::2, 0::2] = 1\n",
    "    matrix[1::2, 1::2] = 1\n",
    "    return matrix\n",
    "\n",
    "print(checkerboard())"
   ]
  },
  {
   "cell_type": "markdown",
   "metadata": {},
   "source": [
    "2.4"
   ]
  },
  {
   "cell_type": "code",
   "execution_count": 12,
   "metadata": {},
   "outputs": [
    {
     "name": "stdout",
     "output_type": "stream",
     "text": [
      "[[0 1 0 1 0 1 0 1]\n",
      " [1 0 1 0 1 0 1 0]\n",
      " [0 1 0 1 0 1 0 1]\n",
      " [1 0 1 0 1 0 1 0]\n",
      " [0 1 0 1 0 1 0 1]\n",
      " [1 0 1 0 1 0 1 0]\n",
      " [0 1 0 1 0 1 0 1]\n",
      " [1 0 1 0 1 0 1 0]]\n"
     ]
    }
   ],
   "source": [
    "def reverse_checkerboard():\n",
    "    matrix= np.zeros((8, 8), dtype=int)\n",
    "    matrix[0::2, 1::2] = 1\n",
    "    matrix[1::2, 0::2] = 1\n",
    "    return matrix\n",
    "\n",
    "print(reverse_checkerboard())"
   ]
  },
  {
   "cell_type": "markdown",
   "metadata": {},
   "source": [
    "## 3"
   ]
  },
  {
   "cell_type": "code",
   "execution_count": 16,
   "metadata": {},
   "outputs": [
    {
     "name": "stdout",
     "output_type": "stream",
     "text": [
      "['g a l a x y' 'c l u s t e r s']\n",
      "['g  a  l  a  x  y' 'c  l  u  s  t  e  r  s']\n"
     ]
    }
   ],
   "source": [
    "universe = np.array(['galaxy', 'clusters'])\n",
    "def expansion(universe, n):\n",
    "    spaces = ' ' * n\n",
    "    return np.array([spaces.join(word) for word in universe])\n",
    "\n",
    "print(expansion(universe, 1))\n",
    "print(expansion(universe, 2))"
   ]
  },
  {
   "cell_type": "markdown",
   "metadata": {},
   "source": [
    "## 4"
   ]
  },
  {
   "cell_type": "code",
   "execution_count": 20,
   "metadata": {},
   "outputs": [
    {
     "name": "stdout",
     "output_type": "stream",
     "text": [
      "[[1889 1906 1846 1622 1541]\n",
      " [ 606 1647 1738  596  613]\n",
      " [1138  547  573 1442  724]\n",
      " [ 611 1933 1863 1346 1777]\n",
      " [ 920 1108 1732 1592  951]]\n",
      "[ 611 1108 1732 1346  724]\n"
     ]
    }
   ],
   "source": [
    "np.random.seed(123)\n",
    "stars = np.random.randint(500, 2000, (5, 5))\n",
    "def secondDimmest(stars):\n",
    "    sorted = np.sort(stars, axis=0)\n",
    "    return sorted[1,:]\n",
    "\n",
    "print(stars)\n",
    "print(secondDimmest(stars))"
   ]
  }
 ],
 "metadata": {
  "kernelspec": {
   "display_name": "base",
   "language": "python",
   "name": "python3"
  },
  "language_info": {
   "codemirror_mode": {
    "name": "ipython",
    "version": 3
   },
   "file_extension": ".py",
   "mimetype": "text/x-python",
   "name": "python",
   "nbconvert_exporter": "python",
   "pygments_lexer": "ipython3",
   "version": "3.12.7"
  }
 },
 "nbformat": 4,
 "nbformat_minor": 2
}
